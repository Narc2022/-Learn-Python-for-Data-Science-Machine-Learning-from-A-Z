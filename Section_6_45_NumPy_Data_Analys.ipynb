{
  "nbformat": 4,
  "nbformat_minor": 0,
  "metadata": {
    "colab": {
      "provenance": [],
      "authorship_tag": "ABX9TyMjnKo1ySCDpl+4/1/n50Kk",
      "include_colab_link": true
    },
    "kernelspec": {
      "name": "python3",
      "display_name": "Python 3"
    },
    "language_info": {
      "name": "python"
    }
  },
  "cells": [
    {
      "cell_type": "markdown",
      "metadata": {
        "id": "view-in-github",
        "colab_type": "text"
      },
      "source": [
        "<a href=\"https://colab.research.google.com/github/Narc2022/-Learn-Python-for-Data-Science-Machine-Learning-from-A-Z/blob/main/Section_6_45_NumPy_Data_Analys.ipynb\" target=\"_parent\"><img src=\"https://colab.research.google.com/assets/colab-badge.svg\" alt=\"Open In Colab\"/></a>"
      ]
    },
    {
      "cell_type": "code",
      "execution_count": null,
      "metadata": {
        "colab": {
          "base_uri": "https://localhost:8080/",
          "height": 35
        },
        "id": "Ch157VDbFBpW",
        "outputId": "811efcbf-b399-47b3-f570-ad4841891fa6"
      },
      "outputs": [
        {
          "output_type": "execute_result",
          "data": {
            "text/plain": [
              "'1.22.4'"
            ],
            "application/vnd.google.colaboratory.intrinsic+json": {
              "type": "string"
            }
          },
          "metadata": {},
          "execution_count": 1
        }
      ],
      "source": [
        "import numpy as np\n",
        "np.__version__\n"
      ]
    },
    {
      "cell_type": "markdown",
      "source": [
        "# Python List\n",
        "\n",
        "\n",
        "Homogenous List\n",
        "\n",
        "*   Int\n",
        "*   float\n",
        "*   string\n",
        "*   bool\n",
        "\n",
        "L = [0,1,2,3,4,5,6,7,8,9]\n",
        "\n",
        "\n",
        "\n",
        "Heterogeneous \n",
        "\n",
        "*   Int + float + string + bool\n",
        "L = [1,2.2,'hello',true]\n",
        "\n"
      ],
      "metadata": {
        "id": "Xpqh2DZhAcaN"
      }
    },
    {
      "cell_type": "code",
      "source": [
        "L = [0,1,2,3,4,5,6,7,8,9]\n",
        "print(L)\n",
        "L = [1,2.2,'hello',True]\n",
        "print(L)"
      ],
      "metadata": {
        "colab": {
          "base_uri": "https://localhost:8080/"
        },
        "id": "PMADoBIbAaRd",
        "outputId": "b1af8a47-6b30-463d-dcd0-f066d60c109d"
      },
      "execution_count": null,
      "outputs": [
        {
          "output_type": "stream",
          "name": "stdout",
          "text": [
            "[0, 1, 2, 3, 4, 5, 6, 7, 8, 9]\n",
            "[1, 2.2, 'hello', True]\n"
          ]
        }
      ]
    },
    {
      "cell_type": "code",
      "source": [
        "L3 = [1,2.2,'hello',True]\n",
        "[type(item) for item in L3]"
      ],
      "metadata": {
        "colab": {
          "base_uri": "https://localhost:8080/"
        },
        "id": "e77Gtm-0DB7i",
        "outputId": "d28726f6-0a29-4530-c5a2-ee148b5ea8b6"
      },
      "execution_count": null,
      "outputs": [
        {
          "output_type": "execute_result",
          "data": {
            "text/plain": [
              "[int, float, str, bool]"
            ]
          },
          "metadata": {},
          "execution_count": 6
        }
      ]
    },
    {
      "cell_type": "markdown",
      "source": [
        ">Using loops to create list"
      ],
      "metadata": {
        "id": "iO-NAOCwOS5u"
      }
    },
    {
      "cell_type": "code",
      "source": [
        "L = list(range(0,10+1))\n",
        "print(L)\n",
        "print(type(L[0]))"
      ],
      "metadata": {
        "colab": {
          "base_uri": "https://localhost:8080/"
        },
        "id": "cczsLsW-OYCu",
        "outputId": "bafb686d-9070-45ca-83ba-02f3b09c17bf"
      },
      "execution_count": null,
      "outputs": [
        {
          "output_type": "stream",
          "name": "stdout",
          "text": [
            "[0, 1, 2, 3, 4, 5, 6, 7, 8, 9, 10]\n",
            "<class 'int'>\n"
          ]
        }
      ]
    },
    {
      "cell_type": "markdown",
      "source": [
        "#Homogeneous \n",
        "\n",
        "Typecast integer list to string list using loops"
      ],
      "metadata": {
        "id": "864G2IRITt-h"
      }
    },
    {
      "cell_type": "code",
      "source": [
        "L2=[]\n",
        "for c in L:\n",
        "    L2.append(str(c))\n",
        "L2"
      ],
      "metadata": {
        "colab": {
          "base_uri": "https://localhost:8080/"
        },
        "id": "_N1PNAJBUUJA",
        "outputId": "2c7c804e-0f4c-45cd-b2db-a6253145326e"
      },
      "execution_count": null,
      "outputs": [
        {
          "output_type": "execute_result",
          "data": {
            "text/plain": [
              "['0', '1', '2', '3', '4', '5', '6', '7', '8', '9', '10']"
            ]
          },
          "metadata": {},
          "execution_count": 13
        }
      ]
    }
  ]
}