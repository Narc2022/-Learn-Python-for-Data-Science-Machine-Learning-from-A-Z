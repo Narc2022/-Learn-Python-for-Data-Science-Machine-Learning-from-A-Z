{
  "nbformat": 4,
  "nbformat_minor": 0,
  "metadata": {
    "colab": {
      "provenance": [],
      "authorship_tag": "ABX9TyNGu2ty54wnudDe2/1fICsI",
      "include_colab_link": true
    },
    "kernelspec": {
      "name": "python3",
      "display_name": "Python 3"
    },
    "language_info": {
      "name": "python"
    }
  },
  "cells": [
    {
      "cell_type": "markdown",
      "metadata": {
        "id": "view-in-github",
        "colab_type": "text"
      },
      "source": [
        "<a href=\"https://colab.research.google.com/github/Narc2022/-Learn-Python-for-Data-Science-Machine-Learning-from-A-Z/blob/main/Section_6_46_NumPy_Array.ipynb\" target=\"_parent\"><img src=\"https://colab.research.google.com/assets/colab-badge.svg\" alt=\"Open In Colab\"/></a>"
      ]
    },
    {
      "cell_type": "code",
      "execution_count": null,
      "metadata": {
        "id": "Se4cDm7JvfZE"
      },
      "outputs": [],
      "source": []
    },
    {
      "cell_type": "markdown",
      "source": [
        "#Numpy Array\n",
        "\n",
        "* fixed type \n",
        "* Efficient\n",
        "* Less flexible as compared to lists\n",
        "\n",
        "Use np.array() to create arrays\n"
      ],
      "metadata": {
        "id": "hGA77cs7vn4i"
      }
    },
    {
      "cell_type": "code",
      "source": [
        "import numpy as np\n",
        "\n",
        "arr1 = np.array([1,2,3,4,5])\n",
        "print(arr1);"
      ],
      "metadata": {
        "colab": {
          "base_uri": "https://localhost:8080/"
        },
        "id": "2xmrlJ081b3c",
        "outputId": "f835bda2-d793-4021-fbd5-2b379521d6d7"
      },
      "execution_count": null,
      "outputs": [
        {
          "output_type": "stream",
          "name": "stdout",
          "text": [
            "[1 2 3 4 5]\n"
          ]
        }
      ]
    },
    {
      "cell_type": "markdown",
      "source": [
        "#Fixed-type\n",
        "\n",
        "* Numpy arrays have fixed-type\n",
        "* Upcasting(Convert integer to floats)"
      ],
      "metadata": {
        "id": "3NKflmS1EpAu"
      }
    },
    {
      "cell_type": "code",
      "source": [
        "import numpy as np\n",
        "\n",
        "arr1 = np.array([3.14,2,5,6,7])\n",
        "print(arr1);"
      ],
      "metadata": {
        "colab": {
          "base_uri": "https://localhost:8080/"
        },
        "id": "ecUkDs6MGzOk",
        "outputId": "cac6a006-2f15-4928-9fdc-7478eda972eb"
      },
      "execution_count": null,
      "outputs": [
        {
          "output_type": "stream",
          "name": "stdout",
          "text": [
            "[3.14 2.   5.   6.   7.  ]\n"
          ]
        }
      ]
    },
    {
      "cell_type": "code",
      "source": [
        "import numpy as np\n",
        "\n",
        "arr1 = np.array([1,2,5,6,7],dtype='float32')\n",
        "print(arr1);"
      ],
      "metadata": {
        "colab": {
          "base_uri": "https://localhost:8080/"
        },
        "id": "ugvqnAf0HXnd",
        "outputId": "99bef37d-0647-447c-f23d-ab3cbab55833"
      },
      "execution_count": null,
      "outputs": [
        {
          "output_type": "stream",
          "name": "stdout",
          "text": [
            "[1. 2. 5. 6. 7.]\n"
          ]
        }
      ]
    },
    {
      "cell_type": "markdown",
      "source": [
        "#2D ARRAY IN NUMPY\n",
        "\n",
        "* TWO D ARRAY ARE LOOK LIKE MATRIX"
      ],
      "metadata": {
        "id": "kLOp3ywwnhUm"
      }
    },
    {
      "cell_type": "code",
      "source": [
        "import numpy as np\n",
        "\n",
        "arr2D = np.array([[2,3,5,7,8],[1,2,5,6,7],[2,3,5,7,8]],dtype='float')\n",
        "print(arr2D);\n",
        "print('----------------------');\n",
        "arr2d = np.array([[1,2,5,6,7],[2,3,5,7,8]],dtype='int')\n",
        "print(arr2d);"
      ],
      "metadata": {
        "colab": {
          "base_uri": "https://localhost:8080/"
        },
        "id": "LUc8GyYkoP-H",
        "outputId": "2bec575d-f40a-42e9-fdf2-301005c56a02"
      },
      "execution_count": null,
      "outputs": [
        {
          "output_type": "stream",
          "name": "stdout",
          "text": [
            "[[2. 3. 5. 7. 8.]\n",
            " [1. 2. 5. 6. 7.]\n",
            " [2. 3. 5. 7. 8.]]\n",
            "----------------------\n",
            "[[1 2 5 6 7]\n",
            " [2 3 5 7 8]]\n"
          ]
        }
      ]
    },
    {
      "cell_type": "markdown",
      "source": [
        "#Way to initialize array\n",
        "\n",
        "np.zeros()\n",
        "need to deal computer image,pad images like stuffs\n"
      ],
      "metadata": {
        "id": "vJUx41F3-bz2"
      }
    },
    {
      "cell_type": "code",
      "source": [
        "np.zeros(10,dtype=int)\n",
        "\n"
      ],
      "metadata": {
        "colab": {
          "base_uri": "https://localhost:8080/"
        },
        "id": "1yiGQPO7-bBs",
        "outputId": "bc35531a-18f8-4d13-8a2b-4209d11d44c8"
      },
      "execution_count": null,
      "outputs": [
        {
          "output_type": "execute_result",
          "data": {
            "text/plain": [
              "array([0, 0, 0, 0, 0, 0, 0, 0, 0, 0])"
            ]
          },
          "metadata": {},
          "execution_count": 11
        }
      ]
    },
    {
      "cell_type": "markdown",
      "source": [
        "The np.ones() function returns a new array of given shape and type, with ones."
      ],
      "metadata": {
        "id": "y95uHIS2FIDT"
      }
    },
    {
      "cell_type": "code",
      "source": [
        "np.ones((3,5),dtype=float)"
      ],
      "metadata": {
        "colab": {
          "base_uri": "https://localhost:8080/"
        },
        "id": "vX7mCHSqFgxr",
        "outputId": "1c8462d6-ed59-4077-a5b3-c94d3eafcf8b"
      },
      "execution_count": null,
      "outputs": [
        {
          "output_type": "execute_result",
          "data": {
            "text/plain": [
              "array([[1., 1., 1., 1., 1.],\n",
              "       [1., 1., 1., 1., 1.],\n",
              "       [1., 1., 1., 1., 1.]])"
            ]
          },
          "metadata": {},
          "execution_count": 10
        }
      ]
    },
    {
      "cell_type": "markdown",
      "source": [
        "np.random.random() is one of the function for doing random sampling in numpy. It returns an array of specified shape and fills it with random floats in the half-open interval [0.0, 1.0)."
      ],
      "metadata": {
        "id": "I858TghYFw6R"
      }
    },
    {
      "cell_type": "code",
      "source": [
        "np.random.random((3*3))"
      ],
      "metadata": {
        "colab": {
          "base_uri": "https://localhost:8080/"
        },
        "id": "3S2NNNxiGGF1",
        "outputId": "b346bde1-0b5e-41d7-ca7e-3ab893612cc4"
      },
      "execution_count": null,
      "outputs": [
        {
          "output_type": "execute_result",
          "data": {
            "text/plain": [
              "array([0.58299588, 0.70465507, 0.27068416, 0.42690867, 0.82087082,\n",
              "       0.20459618, 0.36502046, 0.87557539, 0.56114407])"
            ]
          },
          "metadata": {},
          "execution_count": 19
        }
      ]
    },
    {
      "cell_type": "code",
      "source": [
        "#practice\n",
        "np.random.random((3*3))*2"
      ],
      "metadata": {
        "colab": {
          "base_uri": "https://localhost:8080/"
        },
        "id": "HXMj0xkVG4YQ",
        "outputId": "0105de90-1d43-40ae-92b2-05f0c2309223"
      },
      "execution_count": null,
      "outputs": [
        {
          "output_type": "execute_result",
          "data": {
            "text/plain": [
              "array([1.18004649, 0.10946453, 0.54300614, 0.10349054, 0.65510084,\n",
              "       0.35365089, 1.0249005 , 1.56709044, 0.06120239])"
            ]
          },
          "metadata": {},
          "execution_count": 18
        }
      ]
    }
  ]
}